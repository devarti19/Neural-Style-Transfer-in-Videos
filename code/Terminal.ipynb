{
  "nbformat": 4,
  "nbformat_minor": 0,
  "metadata": {
    "colab": {
      "provenance": []
    },
    "kernelspec": {
      "name": "python3",
      "display_name": "Python 3"
    },
    "language_info": {
      "name": "python"
    },
    "accelerator": "GPU",
    "gpuClass": "standard"
  },
  "cells": [
    {
      "cell_type": "code",
      "execution_count": 1,
      "metadata": {
        "id": "V9AztZzpzq1Q",
        "colab": {
          "base_uri": "https://localhost:8080/"
        },
        "outputId": "e71b8bff-6653-40d3-fd99-e05d1e1ff787"
      },
      "outputs": [
        {
          "output_type": "stream",
          "name": "stdout",
          "text": [
            "Mounted at /content/drive\n"
          ]
        }
      ],
      "source": [
        "from google.colab import drive\n",
        "drive.mount('/content/drive')"
      ]
    },
    {
      "cell_type": "code",
      "source": [
        "cd /content/drive/My\\ Drive/Dissertation/"
      ],
      "metadata": {
        "id": "jb-EbogEzx_G",
        "colab": {
          "base_uri": "https://localhost:8080/"
        },
        "outputId": "2fe7ac72-af5f-4183-b4c6-13012293e770"
      },
      "execution_count": 2,
      "outputs": [
        {
          "output_type": "stream",
          "name": "stdout",
          "text": [
            "/content/drive/My Drive/Dissertation\n"
          ]
        }
      ]
    },
    {
      "cell_type": "code",
      "source": [
        "#training the model\n",
        "!python main.py train --dataset MPI-Sintel-complete --style_name style_images/vanGogh.jpg --epochs 100 --cuda 1"
      ],
      "metadata": {
        "id": "Qz_GKVhZzyDF",
        "colab": {
          "base_uri": "https://localhost:8080/"
        },
        "outputId": "1638714a-6dc1-44a4-d263-12d0db4d82ea"
      },
      "execution_count": 3,
      "outputs": [
        {
          "output_type": "stream",
          "name": "stdout",
          "text": [
            "/usr/local/lib/python3.7/dist-packages/torchvision/models/_utils.py:209: UserWarning: The parameter 'pretrained' is deprecated since 0.13 and will be removed in 0.15, please use 'weights' instead.\n",
            "  f\"The parameter '{pretrained_param}' is deprecated since 0.13 and will be removed in 0.15, \"\n",
            "/usr/local/lib/python3.7/dist-packages/torchvision/models/_utils.py:223: UserWarning: Arguments other than a weight enum or `None` for 'weights' are deprecated since 0.13 and will be removed in 0.15. The current behavior is equivalent to passing `weights=VGG16_Weights.IMAGENET1K_V1`. You can also use `weights=VGG16_Weights.DEFAULT` to get the most up-to-date weights.\n",
            "  warnings.warn(msg)\n",
            "Downloading: \"https://download.pytorch.org/models/vgg16-397923af.pth\" to /root/.cache/torch/hub/checkpoints/vgg16-397923af.pth\n",
            "100% 528M/528M [00:02<00:00, 248MB/s]\n",
            "  0% 0/496 [00:00<?, ?it/s]/usr/local/lib/python3.7/dist-packages/torch/functional.py:478: UserWarning: torch.meshgrid: in an upcoming release, it will be required to pass the indexing argument. (Triggered internally at  ../aten/src/ATen/native/TensorShape.cpp:2894.)\n",
            "  return _VF.meshgrid(tensors, **kwargs)  # type: ignore[attr-defined]\n",
            "/usr/local/lib/python3.7/dist-packages/torch/nn/functional.py:4216: UserWarning: Default grid_sample and affine_grid behavior has changed to align_corners=False since 1.3.0. Please specify align_corners=True if the old behavior is desired. See the documentation of grid_sample for details.\n",
            "  \"Default grid_sample and affine_grid behavior has changed \"\n",
            "Epoch:1 temp_loss:0.1604246 long_temp_loss:0.3199997 content_loss:25.37 style_loss:97.5687256 tv_loss:0.3: 100% 496/496 [28:47<00:00,  3.48s/it]\n",
            "Epoch:2 temp_loss:0.0401924 long_temp_loss:0.1194819 content_loss:21.40 style_loss:61.3320160 tv_loss:0.2: 100% 496/496 [04:55<00:00,  1.68it/s]\n",
            "Epoch:3 temp_loss:0.0727683 long_temp_loss:0.1294381 content_loss:30.14 style_loss:63.7782516 tv_loss:0.2: 100% 496/496 [04:52<00:00,  1.70it/s]\n",
            "Epoch:4 temp_loss:0.0719812 long_temp_loss:0.1211663 content_loss:18.55 style_loss:56.4231949 tv_loss:0.2: 100% 496/496 [04:51<00:00,  1.70it/s]\n",
            "Epoch:5 temp_loss:0.0677983 long_temp_loss:0.1883576 content_loss:21.36 style_loss:53.6843796 tv_loss:0.2: 100% 496/496 [04:50<00:00,  1.71it/s]\n",
            "Epoch:6 temp_loss:0.0536329 long_temp_loss:0.0972391 content_loss:17.00 style_loss:52.6109886 tv_loss:0.2: 100% 496/496 [04:50<00:00,  1.71it/s]\n",
            "Epoch:7 temp_loss:0.0562701 long_temp_loss:0.1196963 content_loss:22.84 style_loss:51.3497047 tv_loss:0.2: 100% 496/496 [04:49<00:00,  1.71it/s]\n",
            "Epoch:8 temp_loss:0.0711814 long_temp_loss:0.1586440 content_loss:16.47 style_loss:46.3438683 tv_loss:0.2: 100% 496/496 [04:49<00:00,  1.72it/s]\n",
            "Epoch:9 temp_loss:0.0678296 long_temp_loss:0.1165839 content_loss:25.64 style_loss:43.3488464 tv_loss:0.3: 100% 496/496 [04:49<00:00,  1.72it/s]\n",
            "Epoch:10 temp_loss:0.0618583 long_temp_loss:0.1581186 content_loss:26.17 style_loss:38.2195587 tv_loss:0.4: 100% 496/496 [04:49<00:00,  1.71it/s]\n",
            "Epoch:11 temp_loss:0.0662391 long_temp_loss:0.1630777 content_loss:20.91 style_loss:31.5057087 tv_loss:0.4: 100% 496/496 [04:48<00:00,  1.72it/s]\n",
            "Epoch:12 temp_loss:0.1068122 long_temp_loss:0.2857685 content_loss:21.72 style_loss:23.3174686 tv_loss:0.5: 100% 496/496 [04:48<00:00,  1.72it/s]\n",
            "Epoch:13 temp_loss:0.1174693 long_temp_loss:0.2309476 content_loss:21.19 style_loss:16.1610012 tv_loss:0.5: 100% 496/496 [04:48<00:00,  1.72it/s]\n",
            "Epoch:14 temp_loss:0.1248491 long_temp_loss:0.2486294 content_loss:20.74 style_loss:10.4843225 tv_loss:0.6: 100% 496/496 [04:48<00:00,  1.72it/s]\n",
            "Epoch:15 temp_loss:0.1194046 long_temp_loss:0.2266213 content_loss:21.68 style_loss:8.1885958 tv_loss:0.7: 100% 496/496 [04:47<00:00,  1.72it/s]\n",
            "Epoch:16 temp_loss:0.1280709 long_temp_loss:0.3258936 content_loss:18.57 style_loss:6.4960680 tv_loss:0.7: 100% 496/496 [04:48<00:00,  1.72it/s]\n",
            "Epoch:17 temp_loss:0.1311919 long_temp_loss:0.2959433 content_loss:19.76 style_loss:6.7699008 tv_loss:0.7: 100% 496/496 [04:48<00:00,  1.72it/s]\n",
            "Epoch:18 temp_loss:0.1297183 long_temp_loss:0.2530150 content_loss:19.42 style_loss:5.5028486 tv_loss:0.7: 100% 496/496 [04:48<00:00,  1.72it/s]\n",
            "Epoch:19 temp_loss:0.1392665 long_temp_loss:0.3668475 content_loss:21.83 style_loss:5.6984153 tv_loss:0.7: 100% 496/496 [04:48<00:00,  1.72it/s]\n",
            "Epoch:20 temp_loss:0.1188975 long_temp_loss:0.3468616 content_loss:14.58 style_loss:6.5968461 tv_loss:0.7: 100% 496/496 [04:49<00:00,  1.71it/s]\n",
            "Epoch:21 temp_loss:0.1542163 long_temp_loss:0.1955521 content_loss:16.14 style_loss:4.9238057 tv_loss:0.7: 100% 496/496 [04:49<00:00,  1.71it/s]\n",
            "Epoch:22 temp_loss:0.1312809 long_temp_loss:0.3528011 content_loss:21.10 style_loss:4.5792780 tv_loss:0.7: 100% 496/496 [04:48<00:00,  1.72it/s]\n",
            "Epoch:23 temp_loss:0.1054428 long_temp_loss:0.1847910 content_loss:22.97 style_loss:5.0278854 tv_loss:0.7: 100% 496/496 [04:49<00:00,  1.72it/s]\n",
            "Epoch:24 temp_loss:0.0978918 long_temp_loss:0.2661942 content_loss:21.54 style_loss:3.8673861 tv_loss:0.7: 100% 496/496 [04:49<00:00,  1.72it/s]\n",
            "Epoch:25 temp_loss:0.1051833 long_temp_loss:0.2251452 content_loss:26.28 style_loss:4.2351809 tv_loss:0.7: 100% 496/496 [04:49<00:00,  1.72it/s]\n",
            "Epoch:26 temp_loss:0.1510205 long_temp_loss:0.4166777 content_loss:15.58 style_loss:4.1539021 tv_loss:0.7: 100% 496/496 [04:49<00:00,  1.71it/s]\n",
            "Epoch:27 temp_loss:0.1477371 long_temp_loss:0.3141943 content_loss:20.76 style_loss:4.3840542 tv_loss:0.7: 100% 496/496 [04:49<00:00,  1.71it/s]\n",
            "Epoch:28 temp_loss:0.0833605 long_temp_loss:0.2225249 content_loss:21.62 style_loss:3.8223469 tv_loss:0.7: 100% 496/496 [04:49<00:00,  1.71it/s]\n",
            "Epoch:29 temp_loss:0.1904148 long_temp_loss:0.3781630 content_loss:14.36 style_loss:4.5221496 tv_loss:0.7: 100% 496/496 [04:49<00:00,  1.71it/s]\n",
            "Epoch:30 temp_loss:0.0814802 long_temp_loss:0.1579224 content_loss:13.48 style_loss:5.0148726 tv_loss:0.8: 100% 496/496 [04:49<00:00,  1.71it/s]\n",
            "Epoch:31 temp_loss:0.1305161 long_temp_loss:0.3017023 content_loss:20.71 style_loss:3.6008635 tv_loss:0.7: 100% 496/496 [04:49<00:00,  1.71it/s]\n",
            "Epoch:32 temp_loss:0.1327297 long_temp_loss:0.3096569 content_loss:16.84 style_loss:4.1111913 tv_loss:0.7: 100% 496/496 [04:49<00:00,  1.71it/s]\n",
            "Epoch:33 temp_loss:0.1228027 long_temp_loss:0.3284429 content_loss:15.20 style_loss:4.3166375 tv_loss:0.7: 100% 496/496 [04:51<00:00,  1.70it/s]\n",
            "Epoch:34 temp_loss:0.0465918 long_temp_loss:0.1012849 content_loss:21.79 style_loss:4.0091777 tv_loss:0.7: 100% 496/496 [04:49<00:00,  1.71it/s]\n",
            "Epoch:35 temp_loss:0.1019077 long_temp_loss:0.2612836 content_loss:22.27 style_loss:3.2813137 tv_loss:0.7: 100% 496/496 [04:49<00:00,  1.71it/s]\n",
            "Epoch:36 temp_loss:0.1789744 long_temp_loss:0.5457886 content_loss:18.19 style_loss:3.8176076 tv_loss:0.7: 100% 496/496 [04:49<00:00,  1.71it/s]\n",
            "Epoch:37 temp_loss:0.0408558 long_temp_loss:0.0770994 content_loss:27.41 style_loss:3.8604262 tv_loss:0.7: 100% 496/496 [04:49<00:00,  1.71it/s]\n",
            "Epoch:38 temp_loss:0.1386544 long_temp_loss:0.2236877 content_loss:16.77 style_loss:4.1105814 tv_loss:0.7: 100% 496/496 [04:49<00:00,  1.71it/s]\n",
            "Epoch:39 temp_loss:0.1127501 long_temp_loss:0.2507088 content_loss:16.88 style_loss:4.2649479 tv_loss:0.7: 100% 496/496 [04:50<00:00,  1.71it/s]\n",
            "Epoch:40 temp_loss:0.1401544 long_temp_loss:0.4359595 content_loss:13.73 style_loss:3.8117301 tv_loss:0.7: 100% 496/496 [04:49<00:00,  1.71it/s]\n",
            "Epoch:41 temp_loss:0.1313027 long_temp_loss:0.2644145 content_loss:15.66 style_loss:3.2801864 tv_loss:0.7: 100% 496/496 [04:49<00:00,  1.71it/s]\n",
            "Epoch:42 temp_loss:0.0938100 long_temp_loss:0.1879257 content_loss:14.15 style_loss:4.2005086 tv_loss:0.7: 100% 496/496 [04:48<00:00,  1.72it/s]\n",
            "Epoch:43 temp_loss:0.1744510 long_temp_loss:0.5158692 content_loss:14.74 style_loss:3.6992452 tv_loss:0.7: 100% 496/496 [04:48<00:00,  1.72it/s]\n",
            "Epoch:44 temp_loss:0.1806064 long_temp_loss:0.4644401 content_loss:13.34 style_loss:3.6148307 tv_loss:0.7: 100% 496/496 [04:47<00:00,  1.72it/s]\n",
            "Epoch:45 temp_loss:0.0905402 long_temp_loss:0.3532855 content_loss:21.38 style_loss:3.1300435 tv_loss:0.7: 100% 496/496 [04:48<00:00,  1.72it/s]\n",
            "Epoch:46 temp_loss:0.0682586 long_temp_loss:0.1744443 content_loss:22.96 style_loss:3.3389661 tv_loss:0.7: 100% 496/496 [04:48<00:00,  1.72it/s]\n",
            "Epoch:47 temp_loss:0.0908247 long_temp_loss:0.2739058 content_loss:14.98 style_loss:3.8745348 tv_loss:0.7: 100% 496/496 [04:48<00:00,  1.72it/s]\n",
            "Epoch:48 temp_loss:0.1543903 long_temp_loss:0.4733249 content_loss:16.26 style_loss:3.0141513 tv_loss:0.7: 100% 496/496 [04:48<00:00,  1.72it/s]\n",
            "Epoch:49 temp_loss:0.1501247 long_temp_loss:0.3704849 content_loss:17.79 style_loss:3.4827361 tv_loss:0.7: 100% 496/496 [04:47<00:00,  1.72it/s]\n",
            "Epoch:50 temp_loss:0.1831347 long_temp_loss:0.6043628 content_loss:13.94 style_loss:3.1634197 tv_loss:0.7: 100% 496/496 [04:48<00:00,  1.72it/s]\n",
            "Epoch:51 temp_loss:0.1584362 long_temp_loss:0.4621305 content_loss:16.50 style_loss:3.1174622 tv_loss:0.7: 100% 496/496 [04:48<00:00,  1.72it/s]\n",
            "Epoch:52 temp_loss:0.1909555 long_temp_loss:0.4348946 content_loss:12.85 style_loss:3.0820394 tv_loss:0.7: 100% 496/496 [04:49<00:00,  1.71it/s]\n",
            "Epoch:53 temp_loss:0.1989995 long_temp_loss:0.6397127 content_loss:15.78 style_loss:2.9812152 tv_loss:0.7: 100% 496/496 [04:49<00:00,  1.71it/s]\n",
            "Epoch:54 temp_loss:0.1195405 long_temp_loss:0.3701672 content_loss:15.14 style_loss:3.2884204 tv_loss:0.7: 100% 496/496 [04:49<00:00,  1.71it/s]\n",
            "Epoch:55 temp_loss:0.0725659 long_temp_loss:0.1669382 content_loss:23.22 style_loss:3.2310710 tv_loss:0.7: 100% 496/496 [04:48<00:00,  1.72it/s]\n",
            "Epoch:56 temp_loss:0.1262816 long_temp_loss:0.2976076 content_loss:18.25 style_loss:3.0470181 tv_loss:0.7: 100% 496/496 [04:48<00:00,  1.72it/s]\n",
            "Epoch:57 temp_loss:0.1119587 long_temp_loss:0.2195134 content_loss:16.79 style_loss:3.0700362 tv_loss:0.7: 100% 496/496 [04:48<00:00,  1.72it/s]\n",
            "Epoch:58 temp_loss:0.1189297 long_temp_loss:0.4658287 content_loss:16.96 style_loss:2.9366252 tv_loss:0.7: 100% 496/496 [04:48<00:00,  1.72it/s]\n",
            "Epoch:59 temp_loss:0.2092305 long_temp_loss:0.4272698 content_loss:13.17 style_loss:3.4618089 tv_loss:0.7: 100% 496/496 [04:48<00:00,  1.72it/s]\n",
            "Epoch:60 temp_loss:0.1338443 long_temp_loss:0.4235682 content_loss:17.70 style_loss:2.9336731 tv_loss:0.7: 100% 496/496 [04:48<00:00,  1.72it/s]\n",
            "Epoch:61 temp_loss:0.1525732 long_temp_loss:0.2142356 content_loss:12.15 style_loss:4.0054374 tv_loss:0.7: 100% 496/496 [04:48<00:00,  1.72it/s]\n",
            "Epoch:62 temp_loss:0.1620557 long_temp_loss:0.4400700 content_loss:14.94 style_loss:3.2482524 tv_loss:0.7: 100% 496/496 [04:47<00:00,  1.72it/s]\n",
            "Epoch:63 temp_loss:0.1542863 long_temp_loss:0.2681251 content_loss:15.03 style_loss:3.3862071 tv_loss:0.7: 100% 496/496 [04:47<00:00,  1.72it/s]\n",
            "Epoch:64 temp_loss:0.1570536 long_temp_loss:0.5111659 content_loss:13.19 style_loss:3.2005825 tv_loss:0.7: 100% 496/496 [04:48<00:00,  1.72it/s]\n",
            "Epoch:65 temp_loss:0.1626836 long_temp_loss:0.5485270 content_loss:13.05 style_loss:3.4066429 tv_loss:0.7: 100% 496/496 [04:48<00:00,  1.72it/s]\n",
            "Epoch:66 temp_loss:0.1676930 long_temp_loss:0.4941591 content_loss:14.16 style_loss:3.5057299 tv_loss:0.7: 100% 496/496 [04:49<00:00,  1.72it/s]\n",
            "Epoch:67 temp_loss:0.1522558 long_temp_loss:0.3846385 content_loss:13.20 style_loss:3.0455449 tv_loss:0.7: 100% 496/496 [04:48<00:00,  1.72it/s]\n",
            "Epoch:68 temp_loss:0.1708308 long_temp_loss:0.3797581 content_loss:13.14 style_loss:2.9597616 tv_loss:0.7: 100% 496/496 [04:48<00:00,  1.72it/s]\n",
            "Epoch:69 temp_loss:0.0829556 long_temp_loss:0.1202783 content_loss:14.51 style_loss:2.6542037 tv_loss:0.7: 100% 496/496 [04:48<00:00,  1.72it/s]\n",
            "Epoch:70 temp_loss:0.1314061 long_temp_loss:0.3313370 content_loss:15.05 style_loss:3.4678357 tv_loss:0.7: 100% 496/496 [04:48<00:00,  1.72it/s]\n",
            "Epoch:71 temp_loss:0.0621755 long_temp_loss:0.1471846 content_loss:17.05 style_loss:3.1335957 tv_loss:0.7: 100% 496/496 [04:48<00:00,  1.72it/s]\n",
            "Epoch:72 temp_loss:0.1075784 long_temp_loss:0.2579157 content_loss:17.63 style_loss:2.7549455 tv_loss:0.7: 100% 496/496 [04:47<00:00,  1.72it/s]\n",
            "Epoch:73 temp_loss:0.1028748 long_temp_loss:0.3376635 content_loss:12.77 style_loss:3.4717734 tv_loss:0.7: 100% 496/496 [04:48<00:00,  1.72it/s]\n",
            "Epoch:74 temp_loss:0.1168251 long_temp_loss:0.2952618 content_loss:17.52 style_loss:3.7285156 tv_loss:0.7: 100% 496/496 [04:48<00:00,  1.72it/s]\n",
            "Epoch:75 temp_loss:0.1403664 long_temp_loss:0.5669237 content_loss:16.16 style_loss:3.0443766 tv_loss:0.7: 100% 496/496 [04:49<00:00,  1.72it/s]\n",
            "Epoch:76 temp_loss:0.1098550 long_temp_loss:0.2178282 content_loss:14.94 style_loss:3.1569846 tv_loss:0.7: 100% 496/496 [04:48<00:00,  1.72it/s]\n",
            "Epoch:77 temp_loss:0.1616147 long_temp_loss:0.2866882 content_loss:13.32 style_loss:3.2834091 tv_loss:0.7: 100% 496/496 [04:49<00:00,  1.71it/s]\n",
            "Epoch:78 temp_loss:0.0971226 long_temp_loss:0.1418975 content_loss:16.24 style_loss:2.6193800 tv_loss:0.7: 100% 496/496 [04:49<00:00,  1.71it/s]\n",
            "Epoch:79 temp_loss:0.1346432 long_temp_loss:0.3059268 content_loss:17.83 style_loss:2.6240420 tv_loss:0.7: 100% 496/496 [04:48<00:00,  1.72it/s]\n",
            "Epoch:80 temp_loss:0.1482269 long_temp_loss:0.4299817 content_loss:13.83 style_loss:3.3681271 tv_loss:0.7: 100% 496/496 [04:49<00:00,  1.72it/s]\n",
            "Epoch:81 temp_loss:0.1933499 long_temp_loss:0.5503840 content_loss:15.46 style_loss:3.2675576 tv_loss:0.7: 100% 496/496 [04:49<00:00,  1.71it/s]\n",
            "Epoch:82 temp_loss:0.1744280 long_temp_loss:0.5645763 content_loss:12.65 style_loss:2.9465468 tv_loss:0.7: 100% 496/496 [04:49<00:00,  1.71it/s]\n",
            "Epoch:83 temp_loss:0.0965844 long_temp_loss:0.3826720 content_loss:19.59 style_loss:2.8906891 tv_loss:0.7: 100% 496/496 [04:49<00:00,  1.72it/s]\n",
            "Epoch:84 temp_loss:0.1335732 long_temp_loss:0.2516272 content_loss:14.70 style_loss:3.4756703 tv_loss:0.7: 100% 496/496 [04:48<00:00,  1.72it/s]\n",
            "Epoch:85 temp_loss:0.1363010 long_temp_loss:0.3596519 content_loss:12.63 style_loss:3.0694034 tv_loss:0.7: 100% 496/496 [04:49<00:00,  1.71it/s]\n",
            "Epoch:86 temp_loss:0.0982092 long_temp_loss:0.2235719 content_loss:12.66 style_loss:3.5243328 tv_loss:0.7: 100% 496/496 [04:49<00:00,  1.71it/s]\n",
            "Epoch:87 temp_loss:0.1254600 long_temp_loss:0.3176497 content_loss:18.95 style_loss:2.6614628 tv_loss:0.7: 100% 496/496 [04:49<00:00,  1.71it/s]\n",
            "Epoch:88 temp_loss:0.1256111 long_temp_loss:0.2068300 content_loss:13.38 style_loss:2.7483277 tv_loss:0.7: 100% 496/496 [04:50<00:00,  1.71it/s]\n",
            "Epoch:89 temp_loss:0.1685415 long_temp_loss:0.4708554 content_loss:13.82 style_loss:3.4522455 tv_loss:0.7: 100% 496/496 [04:49<00:00,  1.71it/s]\n",
            "Epoch:90 temp_loss:0.1481501 long_temp_loss:0.3863986 content_loss:13.29 style_loss:3.5896709 tv_loss:0.7: 100% 496/496 [04:49<00:00,  1.71it/s]\n",
            "Epoch:91 temp_loss:0.1541389 long_temp_loss:0.4649509 content_loss:13.50 style_loss:3.1805828 tv_loss:0.7: 100% 496/496 [04:49<00:00,  1.71it/s]\n",
            "Epoch:92 temp_loss:0.1431910 long_temp_loss:0.2983695 content_loss:16.65 style_loss:2.9555378 tv_loss:0.7: 100% 496/496 [04:49<00:00,  1.71it/s]\n",
            "Epoch:93 temp_loss:0.1750704 long_temp_loss:0.2929716 content_loss:13.80 style_loss:3.0744839 tv_loss:0.7: 100% 496/496 [04:49<00:00,  1.71it/s]\n",
            "Epoch:94 temp_loss:0.1093149 long_temp_loss:0.2462565 content_loss:18.42 style_loss:2.3174288 tv_loss:0.7: 100% 496/496 [04:49<00:00,  1.71it/s]\n",
            "Epoch:95 temp_loss:0.1499009 long_temp_loss:0.4156161 content_loss:17.33 style_loss:2.4424648 tv_loss:0.7: 100% 496/496 [04:49<00:00,  1.71it/s]\n",
            "Epoch:96 temp_loss:0.1614316 long_temp_loss:0.2580681 content_loss:12.53 style_loss:2.6804583 tv_loss:0.7: 100% 496/496 [04:48<00:00,  1.72it/s]\n",
            "Epoch:97 temp_loss:0.1356353 long_temp_loss:0.2672341 content_loss:15.83 style_loss:3.6977198 tv_loss:0.7: 100% 496/496 [04:48<00:00,  1.72it/s]\n",
            "Epoch:98 temp_loss:0.0878743 long_temp_loss:0.2143414 content_loss:18.86 style_loss:2.5378246 tv_loss:0.7: 100% 496/496 [04:49<00:00,  1.71it/s]\n",
            "Epoch:99 temp_loss:0.1233525 long_temp_loss:0.3965193 content_loss:16.26 style_loss:3.0985281 tv_loss:0.7: 100% 496/496 [04:50<00:00,  1.71it/s]\n",
            "Epoch:100 temp_loss:0.1896318 long_temp_loss:0.5835087 content_loss:14.83 style_loss:2.6922684 tv_loss:0.7: 100% 496/496 [04:54<00:00,  1.68it/s]\n"
          ]
        }
      ]
    },
    {
      "cell_type": "code",
      "source": [
        "#testing the video sequence to make a video\n",
        "!python main.py transfer --test_img_path mpidataset/test/clean/PERTURBED_shaman_1 --output_video output/vangogh_shaman.avi --save_model trained_models --model-name train.pt --cuda 1"
      ],
      "metadata": {
        "id": "qT-ZOYm-zyHF",
        "colab": {
          "base_uri": "https://localhost:8080/"
        },
        "outputId": "b1a81b7c-49f6-4e9f-88ca-fdf461f120c7"
      },
      "execution_count": 8,
      "outputs": [
        {
          "output_type": "stream",
          "name": "stdout",
          "text": [
            "Video_Location: ./output/vangogh_shaman.avi\n"
          ]
        }
      ]
    }
  ]
}